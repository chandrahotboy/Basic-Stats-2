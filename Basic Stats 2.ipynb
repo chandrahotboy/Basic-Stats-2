{
 "cells": [
  {
   "cell_type": "markdown",
   "id": "9f3f5962-21d6-45b8-9fe9-2094ba2e3b70",
   "metadata": {},
   "source": [
    "## Data:\n",
    "####   A total of 15 print-heads were randomly selected and tested until failure. \n",
    "####   The durability of each print-head (in millions of characters) was recorded as follows:\n",
    "####   1.13, 1.55, 1.43, 0.92, 1.25, 1.36, 1.32, 0.85, 1.07, 1.48, 1.20, 1.33, 1.18, 1.22, 1.29"
   ]
  },
  {
   "cell_type": "code",
   "execution_count": 12,
   "id": "8111f72c-7568-471a-b29a-a832d1c66db6",
   "metadata": {},
   "outputs": [],
   "source": [
    "import numpy as np\n",
    "from scipy import stats\n",
    "\n",
    "# Data\n",
    "durabilities = [1.13, 1.55, 1.43, 0.92, 1.25, 1.36, 1.32, 0.85, 1.07, 1.48, 1.20, 1.33, 1.18, 1.22, 1.29]"
   ]
  },
  {
   "cell_type": "markdown",
   "id": "ad7625d5-d625-4593-a038-de25ec4b554a",
   "metadata": {},
   "source": [
    "## Build 99% Confidence Interval Using Sample Standard Deviation\n",
    "#### Assuming the sample is representative of the population, construct a 99% confidence interval \n",
    "#### for the mean number of characters printed before the print-head fails using the sample standard deviation.\n",
    "#### Explain the steps you take and the rationale behind using the t-distribution for this task.\n"
   ]
  },
  {
   "cell_type": "code",
   "execution_count": 13,
   "id": "da9b78b2-43c7-4d6c-aac2-fa99c0cb229f",
   "metadata": {},
   "outputs": [
    {
     "data": {
      "text/plain": [
       "(1.090197338451367, 1.3871359948819662)"
      ]
     },
     "execution_count": 13,
     "metadata": {},
     "output_type": "execute_result"
    }
   ],
   "source": [
    "# Calculating sample mean\n",
    "sample_mean = np.mean(durabilities)\n",
    "\n",
    "# Calculating sample standard deviation\n",
    "sample_std = np.std(durabilities, ddof=1)\n",
    "\n",
    "#  No.of samples\n",
    "n = len(durabilities)\n",
    "\n",
    "# Degrees of freedom\n",
    "df = n - 1\n",
    "\n",
    "# Critical value for 99% confidence using t-distribution\n",
    "t_critical = stats.t.ppf(1 - 0.005, df)\n",
    "\n",
    "# Margin of error\n",
    "margin_of_error_a = t_critical * (sample_std / np.sqrt(n))\n",
    "\n",
    "# Confidence interval\n",
    "ci_lower_a = sample_mean - margin_of_error_a\n",
    "ci_upper_a = sample_mean + margin_of_error_a\n",
    "\n",
    "(ci_lower_a, ci_upper_a)"
   ]
  },
  {
   "cell_type": "markdown",
   "id": "1c2d6b93-c213-4755-8db0-46969f4d58f8",
   "metadata": {},
   "source": [
    "## Build 99% Confidence Interval Using Known Population Standard Deviation\n",
    "#### If it were known that the population standard deviation is 0.2 million characters, construct a 99% \n",
    "#### confidence interval for the mean number of characters printed before failure.|"
   ]
  },
  {
   "cell_type": "code",
   "execution_count": 14,
   "id": "6a93cf6d-56a2-406b-a9e0-058eddd0759c",
   "metadata": {},
   "outputs": [
    {
     "data": {
      "text/plain": [
       "(1.1056514133957607, 1.3716819199375725)"
      ]
     },
     "execution_count": 14,
     "metadata": {},
     "output_type": "execute_result"
    }
   ],
   "source": [
    "# Given population standard deviation\n",
    "population_std = 0.2\n",
    "\n",
    "# Critical value for 99% confidence using normal distribution\n",
    "z_critical = stats.norm.ppf(1 - 0.005)\n",
    "\n",
    "# Margin of error\n",
    "margin_of_error_b = z_critical * (population_std / np.sqrt(n))\n",
    "\n",
    "# Confidence interval\n",
    "ci_lower_b = sample_mean - margin_of_error_b\n",
    "ci_upper_b = sample_mean + margin_of_error_b\n",
    "\n",
    "(ci_lower_b, ci_upper_b)"
   ]
  },
  {
   "cell_type": "code",
   "execution_count": 15,
   "id": "771e317a-375a-4033-8cc3-cd9118799aa5",
   "metadata": {},
   "outputs": [
    {
     "data": {
      "text/plain": [
       "((1.090197338451367, 1.3871359948819662),\n",
       " (1.1056514133957607, 1.3716819199375725))"
      ]
     },
     "execution_count": 15,
     "metadata": {},
     "output_type": "execute_result"
    }
   ],
   "source": [
    "(ci_lower_a, ci_upper_a), (ci_lower_b, ci_upper_b)"
   ]
  },
  {
   "cell_type": "code",
   "execution_count": null,
   "id": "a0ab1b8c-3fa7-4227-812d-fead4fc2b545",
   "metadata": {},
   "outputs": [],
   "source": []
  }
 ],
 "metadata": {
  "kernelspec": {
   "display_name": "Python 3 (ipykernel)",
   "language": "python",
   "name": "python3"
  },
  "language_info": {
   "codemirror_mode": {
    "name": "ipython",
    "version": 3
   },
   "file_extension": ".py",
   "mimetype": "text/x-python",
   "name": "python",
   "nbconvert_exporter": "python",
   "pygments_lexer": "ipython3",
   "version": "3.11.7"
  }
 },
 "nbformat": 4,
 "nbformat_minor": 5
}
